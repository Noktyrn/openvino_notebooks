{
 "cells": [
  {
   "cell_type": "markdown",
   "metadata": {},
   "source": [
    "POT Simplified Mode tutorial"
   ]
  },
  {
   "cell_type": "code",
   "execution_count": 96,
   "metadata": {},
   "outputs": [],
   "source": [
    "import os\n",
    "import torch\n",
    "import json\n",
    "from pathlib import Path\n",
    "\n",
    "# Set the data and model directories\n",
    "MODEL_DIR = 'model'\n",
    "CALIB_DIR = 'calib'\n",
    "CIFAR_DIR = 'cifar'\n",
    "CALIB_SET_SIZE = 300\n",
    "\n",
    "os.makedirs(MODEL_DIR, exist_ok=True)\n",
    "os.makedirs(CALIB_DIR, exist_ok=True)"
   ]
  },
  {
   "cell_type": "markdown",
   "metadata": {},
   "source": [
    "Now we need to create the calibration dataset from the preprocessed ImageNet images"
   ]
  },
  {
   "cell_type": "code",
   "execution_count": 97,
   "metadata": {},
   "outputs": [
    {
     "name": "stdout",
     "output_type": "stream",
     "text": [
      "Files already downloaded and verified\n"
     ]
    }
   ],
   "source": [
    "from torchvision import transforms as T\n",
    "from torchvision.datasets import CIFAR10\n",
    "\n",
    "transform = T.Compose([T.ToTensor()])\n",
    "dataset = CIFAR10(root=CIFAR_DIR, train=False, transform=transform, download=True)"
   ]
  },
  {
   "cell_type": "code",
   "execution_count": 98,
   "metadata": {},
   "outputs": [],
   "source": [
    "pil_converter = T.ToPILImage(mode=\"RGB\")\n",
    "counter = 0\n",
    "for idx, info in enumerate(dataset):\n",
    "    im = info[0]\n",
    "    if counter >= CALIB_SET_SIZE:\n",
    "        break\n",
    "    label = info[1]\n",
    "    pil_converter(im.squeeze(0)).save(Path(CALIB_DIR) / f'{label}_{idx}.png')\n",
    "    counter += 1"
   ]
  },
  {
   "cell_type": "markdown",
   "metadata": {},
   "source": [
    "In the first step we need to export the model, which we need to optimize, into the ONNX format:"
   ]
  },
  {
   "cell_type": "code",
   "execution_count": 99,
   "metadata": {},
   "outputs": [
    {
     "name": "stderr",
     "output_type": "stream",
     "text": [
      "Using cache found in /home/tagir/.cache/torch/hub/chenyaofo_pytorch-cifar-models_master\n"
     ]
    }
   ],
   "source": [
    "model = torch.hub.load(\"chenyaofo/pytorch-cifar-models\", \"cifar10_vgg19_bn\", pretrained=True)\n",
    "dummy_input = torch.randn(1, 3, 32, 32)\n",
    "\n",
    "onnx_model_path = Path(MODEL_DIR) / 'vgg19.onnx'\n",
    "ir_model_xml = onnx_model_path.with_suffix('.xml')\n",
    "ir_model_bin = onnx_model_path.with_suffix('.bin')\n",
    "\n",
    "torch.onnx.export(model, dummy_input, onnx_model_path)"
   ]
  },
  {
   "cell_type": "markdown",
   "metadata": {},
   "source": [
    "Now we convert this model into the OpenVINO IR using the Model Optimizer"
   ]
  },
  {
   "cell_type": "code",
   "execution_count": 100,
   "metadata": {},
   "outputs": [
    {
     "name": "stdout",
     "output_type": "stream",
     "text": [
      "Model Optimizer arguments:\n",
      "Common parameters:\n",
      "\t- Path to the Input Model: \t/home/tagir/work/openvino_notebooks/notebooks/114-simplified-mode/model/vgg19.onnx\n",
      "\t- Path for generated IR: \t/home/tagir/work/openvino_notebooks/notebooks/114-simplified-mode/model\n",
      "\t- IR output name: \tvgg19\n",
      "\t- Log level: \tERROR\n",
      "\t- Batch: \tNot specified, inherited from the model\n",
      "\t- Input layers: \tNot specified, inherited from the model\n",
      "\t- Output layers: \tNot specified, inherited from the model\n",
      "\t- Input shapes: \t[1,3,32,32]\n",
      "\t- Source layout: \tNot specified\n",
      "\t- Target layout: \tNot specified\n",
      "\t- Layout: \tNot specified\n",
      "\t- Mean values: \tNot specified\n",
      "\t- Scale values: \tNot specified\n",
      "\t- Scale factor: \tNot specified\n",
      "\t- Precision of IR: \tFP16\n",
      "\t- Enable fusing: \tTrue\n",
      "\t- Enable grouped convolutions fusing: \tTrue\n",
      "\t- Move mean values to preprocess section: \tNone\n",
      "\t- Reverse input channels: \tFalse\n",
      "\t- Use legacy API for model processing: \tFalse\n",
      "\t- Use the transformations config file: \tNone\n",
      "\t- OpenVINO runtime found in: \t/home/tagir/work/openvino_notebooks/env/lib/python3.7/site-packages/openvino\n",
      "OpenVINO runtime version: \t2022.1.0-6582-50dffb80bb9\n",
      "Model Optimizer version: \t2022.1.0-6386-d5b74b0c6b3\n",
      "[ WARNING ] Model Optimizer and OpenVINO runtime versions do no match.\n",
      "[ WARNING ] Consider building the OpenVINO Python API from sources or reinstall OpenVINO (TM) toolkit using \"pip install openvino==2022.1\"\n",
      "[ SUCCESS ] Generated IR version 11 model.\n",
      "[ SUCCESS ] XML file: /home/tagir/work/openvino_notebooks/notebooks/114-simplified-mode/model/vgg19.xml\n",
      "[ SUCCESS ] BIN file: /home/tagir/work/openvino_notebooks/notebooks/114-simplified-mode/model/vgg19.bin\n",
      "[ SUCCESS ] Total execution time: 0.69 seconds. \n",
      "[ SUCCESS ] Memory consumed: 232 MB. \n",
      "It's been a while, check for a new version of Intel(R) Distribution of OpenVINO(TM) toolkit here https://software.intel.com/content/www/us/en/develop/tools/openvino-toolkit/download.html?cid=other&source=prod&campid=ww_2022_bu_IOTG_OpenVINO-2022-1&content=upg_all&medium=organic or on the GitHub*\n"
     ]
    }
   ],
   "source": [
    "!mo --framework=onnx --data_type=FP16 --input_shape=[1,3,32,32] -m $onnx_model_path  --output_dir $MODEL_DIR"
   ]
  },
  {
   "cell_type": "markdown",
   "metadata": {},
   "source": [
    "In this step we need to write the optimization config and export it to .json file"
   ]
  },
  {
   "cell_type": "code",
   "execution_count": 101,
   "metadata": {},
   "outputs": [],
   "source": [
    "config = dict({\n",
    "    \"model\": {\n",
    "        \"model_name\": \"vgg19\",\n",
    "        \"model\": str(ir_model_xml),\n",
    "        \"weights\": str(ir_model_bin)\n",
    "    },\n",
    "\n",
    "    \"engine\": {\n",
    "        \"type\": \"simplified\",\n",
    "        \"data_source\": CALIB_DIR\n",
    "    },\n",
    "\n",
    "    \"compression\": {\n",
    "        \"target_device\": \"ANY\",\n",
    "        \"algorithms\": [\n",
    "            {\n",
    "                \"name\": \"DefaultQuantization\",\n",
    "                \"params\": {\n",
    "                    \"preset\": \"performance\",\n",
    "                    \"stat_subset_size\": 300\n",
    "                }\n",
    "            }\n",
    "        ]\n",
    "    }\n",
    "})\n",
    "\n",
    "with open(\"config.json\", \"w\") as outfile:\n",
    "    json.dump(config, outfile)"
   ]
  },
  {
   "cell_type": "markdown",
   "metadata": {},
   "source": [
    "Now we can optimize the model using this configuration file by calling the following command"
   ]
  },
  {
   "cell_type": "code",
   "execution_count": 102,
   "metadata": {},
   "outputs": [
    {
     "name": "stdout",
     "output_type": "stream",
     "text": [
      "INFO:openvino.tools.pot.app.run:Output log dir: compressed/vgg19_DefaultQuantization/2022-02-16_15-55-36\n",
      "INFO:openvino.tools.pot.app.run:Creating pipeline:\n",
      " Algorithm: DefaultQuantization\n",
      " Parameters:\n",
      "\tpreset                     : performance\n",
      "\tstat_subset_size           : 300\n",
      "\ttarget_device              : ANY\n",
      "\tmodel_type                 : None\n",
      "\tdump_intermediate_model    : False\n",
      "\tinplace_statistics         : True\n",
      "\texec_log_dir               : compressed/vgg19_DefaultQuantization/2022-02-16_15-55-36\n",
      " ===========================================================================\n",
      "INFO:openvino.tools.pot.pipeline.pipeline:Inference Engine version:                2022.1.0-6582-50dffb80bb9\n",
      "INFO:openvino.tools.pot.pipeline.pipeline:Model Optimizer version:                 2022.1.0-6386-d5b74b0c6b3\n",
      "INFO:openvino.tools.pot.pipeline.pipeline:Post-Training Optimization Tool version: 2022.1.0-6386-d5b74b0c6b3\n",
      "INFO:openvino.tools.pot.statistics.collector:Start computing statistics for algorithms : DefaultQuantization\n",
      "INFO:openvino.tools.pot.statistics.collector:Computing statistics finished\n",
      "INFO:openvino.tools.pot.pipeline.pipeline:Start algorithm: DefaultQuantization\n",
      "INFO:openvino.tools.pot.algorithms.quantization.default.algorithm:Start computing statistics for algorithm : ActivationChannelAlignment\n",
      "INFO:openvino.tools.pot.algorithms.quantization.default.algorithm:Computing statistics finished\n",
      "INFO:openvino.tools.pot.algorithms.quantization.default.algorithm:Start computing statistics for algorithms : MinMaxQuantization,FastBiasCorrection\n",
      "INFO:openvino.tools.pot.algorithms.quantization.default.algorithm:Computing statistics finished\n",
      "INFO:openvino.tools.pot.pipeline.pipeline:Finished: DefaultQuantization\n",
      " ===========================================================================\n"
     ]
    }
   ],
   "source": [
    "!pot --output-dir compressed -c config.json"
   ]
  },
  {
   "cell_type": "markdown",
   "metadata": {},
   "source": [
    "Here you need to set the new optimized model path.\n",
    "\n",
    "It looks like \"compressed/{MODEL_NAME}_DefaultQuantization/{DateTime}/optimized\""
   ]
  },
  {
   "cell_type": "code",
   "execution_count": 103,
   "metadata": {},
   "outputs": [],
   "source": [
    "optimized_model_path = Path('compressed/vgg19_DefaultQuantization/2022-02-16_15-55-36/optimized')\n",
    "optimized_model_xml = optimized_model_path / 'vgg19.xml'\n",
    "optimized_model_bin = optimized_model_path / 'vgg19.bin'"
   ]
  },
  {
   "cell_type": "code",
   "execution_count": 104,
   "metadata": {},
   "outputs": [
    {
     "name": "stdout",
     "output_type": "stream",
     "text": [
      "[Step 1/11] Parsing and validating input arguments\n",
      "[ WARNING ]  -nstreams default value is determined automatically for a device. Although the automatic selection usually provides a reasonable performance, but it still may be non-optimal for some cases, for more information look at README. \n",
      "[Step 2/11] Loading OpenVINO\n",
      "[ WARNING ] -hint default value is determined as 'THROUGHPUT' automatically for CPU deviceFor more detailed information look at README.\n",
      "[ INFO ] OpenVINO:\n",
      "         API version............. 2022.1.0-6582-50dffb80bb9\n",
      "[ INFO ] Device info\n",
      "         CPU\n",
      "         openvino_intel_cpu_plugin version 2022.1\n",
      "         Build................... 2022.1.0-6582-50dffb80bb9\n",
      "\n",
      "[Step 3/11] Setting device configuration\n",
      "[ WARNING ] -nstreams default value is determined automatically for CPU device. Although the automatic selection usually provides a reasonable performance, but it still may be non-optimal for some cases, for more information look at README.\n",
      "[Step 4/11] Reading network files\n",
      "[ INFO ] Read model took 20.25 ms\n",
      "[Step 5/11] Resizing network to match image sizes and given batch\n",
      "[ INFO ] Network batch size: 1\n",
      "[Step 6/11] Configuring input of the model\n",
      "[ INFO ] Model input 'input.1' precision u8, dimensions ([N,C,H,W]): 1 3 32 32\n",
      "[ INFO ] Model output '177' precision f32, dimensions ([...]): 1 10\n",
      "[Step 7/11] Loading the model to the device\n",
      "[ INFO ] Compile model took 139.84 ms\n",
      "[Step 8/11] Querying optimal runtime parameters\n",
      "[ INFO ] DEVICE: CPU\n",
      "[ INFO ]   CACHE_DIR  , \n",
      "[ INFO ]   CPU_BIND_THREAD  , YES\n",
      "[ INFO ]   CPU_THREADS_NUM  , 0\n",
      "[ INFO ]   CPU_THROUGHPUT_STREAMS  , 6\n",
      "[ INFO ]   DUMP_EXEC_GRAPH_AS_DOT  , \n",
      "[ INFO ]   DYN_BATCH_ENABLED  , NO\n",
      "[ INFO ]   DYN_BATCH_LIMIT  , 0\n",
      "[ INFO ]   ENFORCE_BF16  , NO\n",
      "[ INFO ]   EXCLUSIVE_ASYNC_REQUESTS  , NO\n",
      "[ INFO ]   PERFORMANCE_HINT  , THROUGHPUT\n",
      "[ INFO ]   PERFORMANCE_HINT_NUM_REQUESTS  , 0\n",
      "[ INFO ]   PERF_COUNT  , NO\n",
      "[Step 9/11] Creating infer requests and preparing input data\n",
      "[ INFO ] Create 6 infer requests took 1.35 ms\n",
      "[ WARNING ] No input files were given for input 'input.1'!. This input will be filled with random values!\n",
      "[ INFO ] Fill input 'input.1' with random values \n",
      "[ INFO ] Benchmarking in inference only mode (inputs filling are not included in measurement loop).\n",
      "[Step 10/11] Measuring performance (Start inference asynchronously, 6 inference requests using 6 streams for CPU, inference only: True, limits: 60000 ms duration)\n",
      "[ INFO ] First inference took 9.37 ms\n",
      "[Step 11/11] Dumping statistics report\n",
      "Count:          78288 iterations\n",
      "Duration:       60006.69 ms\n",
      "Latency:\n",
      "    Median:     4.45 ms\n",
      "    AVG:        4.50 ms\n",
      "    MIN:        3.87 ms\n",
      "    MAX:        16.10 ms\n",
      "Throughput: 1304.65 FPS\n"
     ]
    }
   ],
   "source": [
    "# Inference FP32 model (IR)\n",
    "!benchmark_app -m $ir_model_xml -d CPU -api async"
   ]
  },
  {
   "cell_type": "code",
   "execution_count": 105,
   "metadata": {},
   "outputs": [
    {
     "name": "stdout",
     "output_type": "stream",
     "text": [
      "[Step 1/11] Parsing and validating input arguments\n",
      "[ WARNING ]  -nstreams default value is determined automatically for a device. Although the automatic selection usually provides a reasonable performance, but it still may be non-optimal for some cases, for more information look at README. \n",
      "[Step 2/11] Loading OpenVINO\n",
      "[ WARNING ] -hint default value is determined as 'THROUGHPUT' automatically for CPU deviceFor more detailed information look at README.\n",
      "[ INFO ] OpenVINO:\n",
      "         API version............. 2022.1.0-6582-50dffb80bb9\n",
      "[ INFO ] Device info\n",
      "         CPU\n",
      "         openvino_intel_cpu_plugin version 2022.1\n",
      "         Build................... 2022.1.0-6582-50dffb80bb9\n",
      "\n",
      "[Step 3/11] Setting device configuration\n",
      "[ WARNING ] -nstreams default value is determined automatically for CPU device. Although the automatic selection usually provides a reasonable performance, but it still may be non-optimal for some cases, for more information look at README.\n",
      "[Step 4/11] Reading network files\n",
      "[ INFO ] Read model took 15.85 ms\n",
      "[Step 5/11] Resizing network to match image sizes and given batch\n",
      "[ INFO ] Network batch size: 1\n",
      "[Step 6/11] Configuring input of the model\n",
      "[ INFO ] Model input 'input.1' precision u8, dimensions ([N,C,H,W]): 1 3 32 32\n",
      "[ INFO ] Model output '177' precision f32, dimensions ([...]): 1 10\n",
      "[Step 7/11] Loading the model to the device\n",
      "[ INFO ] Compile model took 87.11 ms\n",
      "[Step 8/11] Querying optimal runtime parameters\n",
      "[ INFO ] DEVICE: CPU\n",
      "[ INFO ]   CACHE_DIR  , \n",
      "[ INFO ]   CPU_BIND_THREAD  , YES\n",
      "[ INFO ]   CPU_THREADS_NUM  , 0\n",
      "[ INFO ]   CPU_THROUGHPUT_STREAMS  , 6\n",
      "[ INFO ]   DUMP_EXEC_GRAPH_AS_DOT  , \n",
      "[ INFO ]   DYN_BATCH_ENABLED  , NO\n",
      "[ INFO ]   DYN_BATCH_LIMIT  , 0\n",
      "[ INFO ]   ENFORCE_BF16  , NO\n",
      "[ INFO ]   EXCLUSIVE_ASYNC_REQUESTS  , NO\n",
      "[ INFO ]   PERFORMANCE_HINT  , THROUGHPUT\n",
      "[ INFO ]   PERFORMANCE_HINT_NUM_REQUESTS  , 0\n",
      "[ INFO ]   PERF_COUNT  , NO\n",
      "[Step 9/11] Creating infer requests and preparing input data\n",
      "[ INFO ] Create 6 infer requests took 1.53 ms\n",
      "[ WARNING ] No input files were given for input 'input.1'!. This input will be filled with random values!\n",
      "[ INFO ] Fill input 'input.1' with random values \n",
      "[ INFO ] Benchmarking in inference only mode (inputs filling are not included in measurement loop).\n",
      "[Step 10/11] Measuring performance (Start inference asynchronously, 6 inference requests using 6 streams for CPU, inference only: True, limits: 60000 ms duration)\n",
      "[ INFO ] First inference took 1.85 ms\n",
      "[Step 11/11] Dumping statistics report\n",
      "Count:          281958 iterations\n",
      "Duration:       60001.83 ms\n",
      "Latency:\n",
      "    Median:     1.18 ms\n",
      "    AVG:        1.19 ms\n",
      "    MIN:        0.88 ms\n",
      "    MAX:        7.55 ms\n",
      "Throughput: 4699.16 FPS\n"
     ]
    }
   ],
   "source": [
    "# Inference INT8 model (IR)\n",
    "!benchmark_app -m $optimized_model_xml -d CPU -api async"
   ]
  },
  {
   "cell_type": "code",
   "execution_count": 106,
   "metadata": {},
   "outputs": [],
   "source": [
    "from openvino.inference_engine import IECore\n",
    "\n",
    "ie = IECore()\n",
    "\n",
    "# read and load quantized model\n",
    "quantized_net = ie.read_network(\n",
    "    model=optimized_model_xml, weights=optimized_model_bin\n",
    ")\n",
    "quantized_net = ie.load_network(network=quantized_net, device_name=\"CPU\")"
   ]
  },
  {
   "cell_type": "code",
   "execution_count": 107,
   "metadata": {},
   "outputs": [],
   "source": [
    "# define all possible labels from CIFAR10\n",
    "labels_names = [\"airplane\", \"automobile\", \"bird\", \"cat\", \"deer\", \"dog\", \"frog\", \"horse\", \"ship\", \"truck\"]\n",
    "all_pictures = []\n",
    "all_labels = []\n",
    "\n",
    "# get all pictures and their labels \n",
    "for batch in dataset:\n",
    "    all_pictures.append(batch[0])\n",
    "    all_labels.append(batch[1])"
   ]
  },
  {
   "cell_type": "code",
   "execution_count": 108,
   "metadata": {},
   "outputs": [],
   "source": [
    "import matplotlib.pyplot as plt\n",
    "import numpy as np\n",
    "\n",
    "def plot_pictures(indexes: list, all_pictures=all_pictures, all_labels=all_labels):\n",
    "    \"\"\"Plot 4 pictures.\n",
    "    :param indexes: a list of indexes of pictures to be displayed.\n",
    "    :param all_batches: batches with pictures.\n",
    "    \"\"\"\n",
    "    num_pics = len(indexes)\n",
    "    f, axarr = plt.subplots(1, num_pics)\n",
    "    for idx, im_idx in enumerate(indexes):\n",
    "        assert idx < 10000, 'Cannot get such index, there are only 10000'\n",
    "        pic = np.rollaxis(all_pictures[im_idx].squeeze().numpy(), 0, 3)\n",
    "        axarr[idx].imshow(pic)\n",
    "        axarr[idx].set_title(labels_names[all_labels[im_idx]])"
   ]
  },
  {
   "cell_type": "code",
   "execution_count": 109,
   "metadata": {},
   "outputs": [],
   "source": [
    "def infer_on_pictures(net, indexes: list, all_pictures=all_pictures):\n",
    "    \"\"\" Inference model on a few pictures.\n",
    "    :param net: model on which do inference\n",
    "    :param indexes: list of indexes \n",
    "    \"\"\"\n",
    "    predicted_labels = []\n",
    "    for idx in indexes:\n",
    "        assert idx < 10000, 'Cannot get such index, there are only 10000'\n",
    "        result = list(net.infer(inputs={'input.1': all_pictures[idx]}).values())\n",
    "        result = labels_names[np.argmax(result[0])]\n",
    "        predicted_labels.append(result)\n",
    "    return predicted_labels"
   ]
  },
  {
   "cell_type": "code",
   "execution_count": 110,
   "metadata": {},
   "outputs": [
    {
     "name": "stdout",
     "output_type": "stream",
     "text": [
      "Labels for picture from quantized model : ['bird', 'frog', 'frog'].\n"
     ]
    },
    {
     "data": {
      "image/png": "[encoded data removed]",
      "text/plain": [
       "<Figure size 432x288 with 3 Axes>"
      ]
     },
     "metadata": {
      "needs_background": "light"
     },
     "output_type": "display_data"
    }
   ],
   "source": [
    "indexes_to_infer = [3, 4, 5]  # to plot specify indexes\n",
    "\n",
    "plot_pictures(indexes_to_infer)\n",
    "\n",
    "results_quanized = infer_on_pictures(quantized_net, indexes_to_infer)\n",
    "\n",
    "print(f\"Labels for picture from quantized model : {results_quanized}.\")"
   ]
  },
  {
   "cell_type": "code",
   "execution_count": null,
   "metadata": {},
   "outputs": [],
   "source": []
  }
 ],
 "metadata": {
  "accelerator": "GPU",
  "colab": {
   "collapsed_sections": [
    "K5HPrY_d-7cV",
    "E01dMaR2_AFL",
    "qMnYsGo9_MA8",
    "L0tH9KdwtHhV"
   ],
   "name": "NNCF Quantization PyTorch Demo (tiny-imagenet/resnet-50)",
   "provenance": []
  },
  "interpreter": {
   "hash": "852430a53033d44ce17eefa3d9017e4bc4dca84b51e1c38a8c71aec2fd2e4d43"
  },
  "kernelspec": {
   "display_name": "openvino_env",
   "language": "python",
   "name": "python3"
  },
  "language_info": {
   "codemirror_mode": {
    "name": "ipython",
    "version": 3
   },
   "file_extension": ".py",
   "mimetype": "text/x-python",
   "name": "python",
   "nbconvert_exporter": "python",
   "pygments_lexer": "ipython3",
   "version": "3.7.5"
  }
 },
 "nbformat": 4,
 "nbformat_minor": 4
}
