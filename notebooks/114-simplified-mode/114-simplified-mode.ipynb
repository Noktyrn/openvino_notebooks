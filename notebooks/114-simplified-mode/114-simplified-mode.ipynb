{
 "cells": [
  {
   "cell_type": "markdown",
   "metadata": {},
   "source": [
    "# INT8 Quantization by POT in Simplified Mode tutorial\n",
    "\n",
    "This tutorial shows how to quantize a ResNet20 image classification model, trained on CIFAR10 dataset, using the Simplified Mode of OpenVINO's Post-Training Optimization Tool. \n",
    "\n",
    "With the Simplified Mode models can be quantized without writing an accuracy checker configuration file. The user just need to specify the folder with images, which will later be used as calibration dataset for POT.\n",
    "\n",
    "This tutorial has the following steps:\n",
    "\n",
    "- Downloading and saving the CIFAR10 dataset\n",
    "- Preparing the model for quantization\n",
    "- Compressing the prepared model\n",
    "- Measuring and comparing the performance of the original and quantized models\n",
    "- Demonstrating the use of the quantized model for image classification\n"
   ]
  },
  {
   "cell_type": "code",
   "execution_count": 15,
   "metadata": {},
   "outputs": [],
   "source": [
    "import os\n",
    "import json\n",
    "from pathlib import Path\n",
    "\n",
    "import torch\n",
    "from torchvision import transforms as T\n",
    "from torchvision.datasets import CIFAR10\n",
    "\n",
    "import matplotlib.pyplot as plt\n",
    "import numpy as np\n",
    "\n",
    "from openvino.inference_engine import IECore\n",
    "\n",
    "# Set the data and model directories\n",
    "MODEL_DIR = 'model'\n",
    "CALIB_DIR = 'calib'\n",
    "CIFAR_DIR = 'cifar'\n",
    "CALIB_SET_SIZE = 300\n",
    "\n",
    "os.makedirs(MODEL_DIR, exist_ok=True)\n",
    "os.makedirs(CALIB_DIR, exist_ok=True)"
   ]
  },
  {
   "cell_type": "markdown",
   "metadata": {},
   "source": [
    "## Prepare the calibration dataset\n",
    "To prepare the calibration dataset we need to do the following:\n",
    "- Download CIFAR10 dataset from Torchvision.datasets repository\n",
    "- Save the selected number of elements from this dataset as .png images to the separate folder"
   ]
  },
  {
   "cell_type": "code",
   "execution_count": 16,
   "metadata": {},
   "outputs": [
    {
     "name": "stdout",
     "output_type": "stream",
     "text": [
      "Files already downloaded and verified\n"
     ]
    }
   ],
   "source": [
    "transform = T.Compose([T.ToTensor()])\n",
    "dataset = CIFAR10(root=CIFAR_DIR, train=False, transform=transform, download=True)"
   ]
  },
  {
   "cell_type": "code",
   "execution_count": 17,
   "metadata": {},
   "outputs": [],
   "source": [
    "pil_converter = T.ToPILImage(mode=\"RGB\")\n",
    "\n",
    "for idx, info in enumerate(dataset):\n",
    "    im = info[0]\n",
    "    if idx >= CALIB_SET_SIZE:\n",
    "        break\n",
    "    label = info[1]\n",
    "    pil_converter(im.squeeze(0)).save(Path(CALIB_DIR) / f'{label}_{idx}.png')"
   ]
  },
  {
   "cell_type": "markdown",
   "metadata": {},
   "source": [
    "## Prepare the Model\n",
    "Model preparation stage includes the following steps:,\n",
    "- Download PyTorch model from Torchvision repository,\n",
    "- Convert it to ONNX format,\n",
    "- Run OpenVINO Model Optimizer tool to convert ONNX to OpenVINO Intermediate Representation (IR)"
   ]
  },
  {
   "cell_type": "code",
   "execution_count": 18,
   "metadata": {},
   "outputs": [
    {
     "name": "stderr",
     "output_type": "stream",
     "text": [
      "Using cache found in /home/tagir/.cache/torch/hub/chenyaofo_pytorch-cifar-models_master\n"
     ]
    }
   ],
   "source": [
    "model = torch.hub.load(\"chenyaofo/pytorch-cifar-models\", \"cifar10_resnet20\", pretrained=True)\n",
    "dummy_input = torch.randn(1, 3, 32, 32)\n",
    "\n",
    "onnx_model_path = Path(MODEL_DIR) / 'resnet20.onnx'\n",
    "ir_model_xml = onnx_model_path.with_suffix('.xml')\n",
    "ir_model_bin = onnx_model_path.with_suffix('.bin')\n",
    "\n",
    "torch.onnx.export(model, dummy_input, onnx_model_path)"
   ]
  },
  {
   "cell_type": "markdown",
   "metadata": {},
   "source": [
    "Now we convert this model into the OpenVINO IR using the Model Optimizer:"
   ]
  },
  {
   "cell_type": "code",
   "execution_count": 19,
   "metadata": {},
   "outputs": [
    {
     "name": "stdout",
     "output_type": "stream",
     "text": [
      "[ WARNING ] Telemetry will not be sent as TID is not specified.\n",
      "Model Optimizer arguments:\n",
      "Common parameters:\n",
      "\t- Path to the Input Model: \t/home/tagir/work/openvino_notebooks/notebooks/114-simplified-mode/model/resnet20.onnx\n",
      "\t- Path for generated IR: \t/home/tagir/work/openvino_notebooks/notebooks/114-simplified-mode/model\n",
      "\t- IR output name: \tresnet20\n",
      "\t- Log level: \tERROR\n",
      "\t- Batch: \tNot specified, inherited from the model\n",
      "\t- Input layers: \tNot specified, inherited from the model\n",
      "\t- Output layers: \tNot specified, inherited from the model\n",
      "\t- Input shapes: \t[1,3,32,32]\n",
      "\t- Mean values: \tNot specified\n",
      "\t- Scale values: \tNot specified\n",
      "\t- Scale factor: \tNot specified\n",
      "\t- Precision of IR: \tFP32\n",
      "\t- Enable fusing: \tTrue\n",
      "\t- Enable grouped convolutions fusing: \tTrue\n",
      "\t- Move mean values to preprocess section: \tNone\n",
      "\t- Reverse input channels: \tFalse\n",
      "ONNX specific parameters:\n",
      "[ WARNING ] Failed to import Inference Engine Python API in: PYTHONPATH\n",
      "[ WARNING ] expected str, bytes or os.PathLike object, not NoneType\n",
      "[ WARNING ] Telemetry will not be sent as TID is not specified.\n",
      "[ WARNING ] Could not find the Inference Engine Python API. At this moment, the Inference Engine dependency is not required, but will be required in future releases.\n",
      "[ WARNING ] Consider building the Inference Engine Python API from sources or try to install OpenVINO (TM) Toolkit using \"install_prerequisites.sh\"\n",
      "Model Optimizer version: \t2021.4.0-3839-cd81789d294-releases/2021/4\n",
      "[ WARNING ]  Using fallback to produce IR.\n",
      "[ SUCCESS ] Generated IR version 10 model.\n",
      "[ SUCCESS ] XML file: /home/tagir/work/openvino_notebooks/notebooks/114-simplified-mode/model/resnet20.xml\n",
      "[ SUCCESS ] BIN file: /home/tagir/work/openvino_notebooks/notebooks/114-simplified-mode/model/resnet20.bin\n",
      "[ SUCCESS ] Total execution time: 2.76 seconds. \n",
      "[ SUCCESS ] Memory consumed: 78 MB. \n",
      "It's been a while, check for a new version of Intel(R) Distribution of OpenVINO(TM) toolkit here https://software.intel.com/content/www/us/en/develop/tools/openvino-toolkit/download.html?cid=other&source=prod&campid=ww_2021_bu_IOTG_OpenVINO-2021-4-LTS&content=upg_all&medium=organic or on the GitHub*\n"
     ]
    }
   ],
   "source": [
    "!mo --framework=onnx --data_type=FP32 --input_shape=[1,3,32,32] -m $onnx_model_path  --output_dir $MODEL_DIR"
   ]
  },
  {
   "cell_type": "markdown",
   "metadata": {},
   "source": [
    "## Compression stage\n",
    "Model compression stage includes the following steps:,\n",
    "- Writing the optimization configuration and exporting it to .json file\n",
    "- Calling the Post-Training Optimization Tool with the created configuration"
   ]
  },
  {
   "cell_type": "code",
   "execution_count": 20,
   "metadata": {},
   "outputs": [],
   "source": [
    "config = dict({\n",
    "    \"model\": {\n",
    "        \"model_name\": \"resnet20\",\n",
    "        \"model\": str(ir_model_xml),\n",
    "        \"weights\": str(ir_model_bin)\n",
    "    },\n",
    "\n",
    "    \"engine\": {\n",
    "        \"type\": \"simplified\",\n",
    "        \"data_source\": CALIB_DIR\n",
    "    },\n",
    "\n",
    "    \"compression\": {\n",
    "        \"target_device\": \"ANY\",\n",
    "        \"algorithms\": [\n",
    "            {\n",
    "                \"name\": \"DefaultQuantization\",\n",
    "                \"params\": {\n",
    "                    \"preset\": \"performance\",\n",
    "                    \"stat_subset_size\": 300\n",
    "                }\n",
    "            }\n",
    "        ]\n",
    "    }\n",
    "})\n",
    "\n",
    "with open(\"config.json\", \"w\") as outfile:\n",
    "    json.dump(config, outfile)"
   ]
  },
  {
   "cell_type": "markdown",
   "metadata": {},
   "source": [
    "Now we can optimize the model using this configuration file by calling the following command:"
   ]
  },
  {
   "cell_type": "code",
   "execution_count": 21,
   "metadata": {},
   "outputs": [
    {
     "name": "stdout",
     "output_type": "stream",
     "text": [
      "15:11:47 accuracy_checker WARNING: /home/tagir/work/openvino_notebooks/env/lib/python3.7/site-packages/defusedxml/__init__.py:30: DeprecationWarning: defusedxml.cElementTree is deprecated, import from defusedxml.ElementTree instead.\n",
      "  from . import cElementTree\n",
      "\n",
      "[ WARNING ] Telemetry will not be sent as TID is not specified.\n",
      "15:11:47 accuracy_checker WARNING: /home/tagir/work/openvino_notebooks/env/lib/python3.7/site-packages/compression/algorithms/quantization/optimization/algorithm.py:39: UserWarning: Nevergrad package could not be imported. If you are planning to useany hyperparameter optimization algo, consider installing itusing pip. This implies advanced usage of the tool.Note that nevergrad is compatible only with Python 3.6+\n",
      "  'Nevergrad package could not be imported. If you are planning to use'\n",
      "\n",
      "15:11:47 accuracy_checker WARNING: /home/tagir/work/openvino_notebooks/env/lib/python3.7/site-packages/past/builtins/misc.py:45: DeprecationWarning: the imp module is deprecated in favour of importlib; see the module's documentation for alternative uses\n",
      "  from imp import reload\n",
      "\n",
      "INFO:app.run:Output log dir: compressed/resnet20_DefaultQuantization/2022-02-21_15-11-47\n",
      "INFO:app.run:Creating pipeline:\n",
      " Algorithm: DefaultQuantization\n",
      " Parameters:\n",
      "\tpreset                     : performance\n",
      "\tstat_subset_size           : 300\n",
      "\ttarget_device              : ANY\n",
      "\tmodel_type                 : None\n",
      "\tdump_intermediate_model    : False\n",
      "\texec_log_dir               : compressed/resnet20_DefaultQuantization/2022-02-21_15-11-47\n",
      " ===========================================================================\n",
      "INFO:compression.statistics.collector:Start computing statistics for algorithms : DefaultQuantization\n",
      "INFO:compression.statistics.collector:Computing statistics finished\n",
      "INFO:compression.pipeline.pipeline:Start algorithm: DefaultQuantization\n",
      "INFO:compression.algorithms.quantization.default.algorithm:Start computing statistics for algorithm : ActivationChannelAlignment\n",
      "INFO:compression.algorithms.quantization.default.algorithm:Computing statistics finished\n",
      "INFO:compression.algorithms.quantization.default.algorithm:Start computing statistics for algorithms : MinMaxQuantization,FastBiasCorrection\n",
      "INFO:compression.algorithms.quantization.default.algorithm:Computing statistics finished\n",
      "INFO:compression.pipeline.pipeline:Finished: DefaultQuantization\n",
      " ===========================================================================\n"
     ]
    }
   ],
   "source": [
    "!pot --output-dir compressed -c config.json"
   ]
  },
  {
   "cell_type": "markdown",
   "metadata": {},
   "source": [
    "## Compare Performance of the Original and Quantized Models\n",
    "\n",
    "Finally, we will measure the inference performance of the FP32 and INT8 models. To do this, we use [Benchmark Tool](https://docs.openvinotoolkit.org/latest/openvino_inference_engine_tools_benchmark_tool_README.html) - OpenVINO's inference performance measurement tool.\n",
    "\n",
    "NOTE: For more accurate performance, we recommended running benchmark_app in a terminal/command prompt after closing other applications. Run benchmark_app -m model.xml -d CPU to benchmark async inference on CPU for one minute. Change CPU to GPU to benchmark on GPU. Run benchmark_app --help to see an overview of all command line options."
   ]
  },
  {
   "cell_type": "markdown",
   "metadata": {},
   "source": [
    "Here you need to set the new optimized model path.\n",
    "It will look like \"compressed/{MODEL_NAME}_DefaultQuantization/{DateTime}/optimized\""
   ]
  },
  {
   "cell_type": "code",
   "execution_count": 22,
   "metadata": {},
   "outputs": [],
   "source": [
    "optimized_model_path = Path('compressed/resnet20_DefaultQuantization/2022-02-21_15-01-32/optimized')\n",
    "optimized_model_xml = optimized_model_path / 'resnet20.xml'\n",
    "optimized_model_bin = optimized_model_path / 'resnet20.bin'"
   ]
  },
  {
   "cell_type": "code",
   "execution_count": 23,
   "metadata": {},
   "outputs": [
    {
     "name": "stdout",
     "output_type": "stream",
     "text": [
      "[Step 1/11] Parsing and validating input arguments\n",
      "[ WARNING ]  -nstreams default value is determined automatically for a device. Although the automatic selection usually provides a reasonable performance, but it still may be non-optimal for some cases, for more information look at README. \n",
      "[Step 2/11] Loading Inference Engine\n",
      "[ INFO ] InferenceEngine:\n",
      "         API version............. 2021.4.0-3839-cd81789d294-releases/2021/4\n",
      "[ INFO ] Device info\n",
      "         CPU\n",
      "         MKLDNNPlugin............ version 2.1\n",
      "         Build................... 2021.4.0-3839-cd81789d294-releases/2021/4\n",
      "\n",
      "[Step 3/11] Setting device configuration\n",
      "[ WARNING ] -nstreams default value is determined automatically for CPU device. Although the automatic selection usually provides a reasonable performance,but it still may be non-optimal for some cases, for more information look at README.\n",
      "[Step 4/11] Reading network files\n",
      "[ INFO ] Read network took 5.22 ms\n",
      "[Step 5/11] Resizing network to match image sizes and given batch\n",
      "[ INFO ] Network batch size: 1\n",
      "[Step 6/11] Configuring input of the model\n",
      "[ INFO ] Network input 'input.1' precision U8, dimensions (NCHW): 1 3 32 32\n",
      "[ INFO ] Network output '208' precision FP32, dimensions (NC): 1 10\n",
      "[Step 7/11] Loading the model to the device\n",
      "[ INFO ] Load network took 58.52 ms\n",
      "[Step 8/11] Setting optimal runtime parameters\n",
      "[Step 9/11] Creating infer requests and filling input blobs with images\n",
      "[ WARNING ] No input files were given: all inputs will be filled with random values!\n",
      "[ INFO ] Infer Request 0 filling\n",
      "[ INFO ] Fill input 'input.1' with random values (image is expected)\n",
      "[ INFO ] Infer Request 1 filling\n",
      "[ INFO ] Fill input 'input.1' with random values (image is expected)\n",
      "[ INFO ] Infer Request 2 filling\n",
      "[ INFO ] Fill input 'input.1' with random values (image is expected)\n",
      "[ INFO ] Infer Request 3 filling\n",
      "[ INFO ] Fill input 'input.1' with random values (image is expected)\n",
      "[ INFO ] Infer Request 4 filling\n",
      "[ INFO ] Fill input 'input.1' with random values (image is expected)\n",
      "[ INFO ] Infer Request 5 filling\n",
      "[ INFO ] Fill input 'input.1' with random values (image is expected)\n",
      "[Step 10/11] Measuring performance (Start inference asynchronously, 6 inference requests using 6 streams for CPU, limits: 60000 ms duration)\n",
      "[ INFO ] First inference took 3.78 ms\n",
      "[Step 11/11] Dumping statistics report\n",
      "Count:      945648 iterations\n",
      "Duration:   60000.60 ms\n",
      "Latency:    0.36 ms\n",
      "Throughput: 15760.64 FPS\n"
     ]
    }
   ],
   "source": [
    "# Inference FP32 model (IR)\n",
    "!benchmark_app -m $ir_model_xml -d CPU -api async"
   ]
  },
  {
   "cell_type": "code",
   "execution_count": 24,
   "metadata": {},
   "outputs": [
    {
     "name": "stdout",
     "output_type": "stream",
     "text": [
      "[Step 1/11] Parsing and validating input arguments\n",
      "[ WARNING ]  -nstreams default value is determined automatically for a device. Although the automatic selection usually provides a reasonable performance, but it still may be non-optimal for some cases, for more information look at README. \n",
      "[Step 2/11] Loading Inference Engine\n",
      "[ INFO ] InferenceEngine:\n",
      "         API version............. 2021.4.0-3839-cd81789d294-releases/2021/4\n",
      "[ INFO ] Device info\n",
      "         CPU\n",
      "         MKLDNNPlugin............ version 2.1\n",
      "         Build................... 2021.4.0-3839-cd81789d294-releases/2021/4\n",
      "\n",
      "[Step 3/11] Setting device configuration\n",
      "[ WARNING ] -nstreams default value is determined automatically for CPU device. Although the automatic selection usually provides a reasonable performance,but it still may be non-optimal for some cases, for more information look at README.\n",
      "[Step 4/11] Reading network files\n",
      "[ INFO ] Read network took 8.90 ms\n",
      "[Step 5/11] Resizing network to match image sizes and given batch\n",
      "[ INFO ] Network batch size: 1\n",
      "[Step 6/11] Configuring input of the model\n",
      "[ INFO ] Network input 'input.1' precision U8, dimensions (NCHW): 1 3 32 32\n",
      "[ INFO ] Network output '208' precision FP32, dimensions (NC): 1 10\n",
      "[Step 7/11] Loading the model to the device\n",
      "[ INFO ] Load network took 77.58 ms\n",
      "[Step 8/11] Setting optimal runtime parameters\n",
      "[Step 9/11] Creating infer requests and filling input blobs with images\n",
      "[ WARNING ] No input files were given: all inputs will be filled with random values!\n",
      "[ INFO ] Infer Request 0 filling\n",
      "[ INFO ] Fill input 'input.1' with random values (image is expected)\n",
      "[ INFO ] Infer Request 1 filling\n",
      "[ INFO ] Fill input 'input.1' with random values (image is expected)\n",
      "[ INFO ] Infer Request 2 filling\n",
      "[ INFO ] Fill input 'input.1' with random values (image is expected)\n",
      "[ INFO ] Infer Request 3 filling\n",
      "[ INFO ] Fill input 'input.1' with random values (image is expected)\n",
      "[ INFO ] Infer Request 4 filling\n",
      "[ INFO ] Fill input 'input.1' with random values (image is expected)\n",
      "[ INFO ] Infer Request 5 filling\n",
      "[ INFO ] Fill input 'input.1' with random values (image is expected)\n",
      "[Step 10/11] Measuring performance (Start inference asynchronously, 6 inference requests using 6 streams for CPU, limits: 60000 ms duration)\n",
      "[ INFO ] First inference took 9.77 ms\n",
      "[Step 11/11] Dumping statistics report\n",
      "Count:      1537194 iterations\n",
      "Duration:   60000.28 ms\n",
      "Latency:    0.22 ms\n",
      "Throughput: 25619.78 FPS\n"
     ]
    }
   ],
   "source": [
    "# Inference INT8 model (IR)\n",
    "!benchmark_app -m $optimized_model_xml -d CPU -api async"
   ]
  },
  {
   "cell_type": "markdown",
   "metadata": {},
   "source": [
    "## Demonstration of the results"
   ]
  },
  {
   "cell_type": "code",
   "execution_count": 25,
   "metadata": {},
   "outputs": [],
   "source": [
    "ie = IECore()\n",
    "\n",
    "# read and load quantized model\n",
    "quantized_net = ie.read_network(\n",
    "    model=optimized_model_xml, weights=optimized_model_bin\n",
    ")\n",
    "quantized_net = ie.load_network(network=quantized_net, device_name=\"CPU\")"
   ]
  },
  {
   "cell_type": "code",
   "execution_count": 26,
   "metadata": {},
   "outputs": [],
   "source": [
    "# define all possible labels from CIFAR10\n",
    "labels_names = [\"airplane\", \"automobile\", \"bird\", \"cat\", \"deer\", \"dog\", \"frog\", \"horse\", \"ship\", \"truck\"]\n",
    "all_pictures = []\n",
    "all_labels = []\n",
    "\n",
    "# get all pictures and their labels \n",
    "for batch in dataset:\n",
    "    all_pictures.append(batch[0])\n",
    "    all_labels.append(batch[1])"
   ]
  },
  {
   "cell_type": "code",
   "execution_count": 27,
   "metadata": {},
   "outputs": [],
   "source": [
    "def plot_pictures(indexes: list, all_pictures=all_pictures, all_labels=all_labels):\n",
    "    \"\"\"Plot pictures with the specified indexes.\n",
    "    :param indexes: a list of indexes of pictures to be displayed.\n",
    "    :param all_batches: batches with pictures.\n",
    "    \"\"\"\n",
    "    num_pics = len(indexes)\n",
    "    f, axarr = plt.subplots(1, num_pics)\n",
    "    for idx, im_idx in enumerate(indexes):\n",
    "        assert idx < 10000, 'Cannot get such index, there are only 10000'\n",
    "        pic = np.rollaxis(all_pictures[im_idx].squeeze().numpy(), 0, 3)\n",
    "        axarr[idx].imshow(pic)\n",
    "        axarr[idx].set_title(labels_names[all_labels[im_idx]])"
   ]
  },
  {
   "cell_type": "code",
   "execution_count": 28,
   "metadata": {},
   "outputs": [],
   "source": [
    "def infer_on_pictures(net, indexes: list, all_pictures=all_pictures):\n",
    "    \"\"\" Inference model on a set of pictures.\n",
    "    :param net: model on which do inference\n",
    "    :param indexes: list of indexes \n",
    "    \"\"\"\n",
    "    predicted_labels = []\n",
    "    for idx in indexes:\n",
    "        assert idx < 10000, 'Cannot get such index, there are only 10000'\n",
    "        result = list(net.infer(inputs={'input.1': all_pictures[idx]}).values())\n",
    "        result = labels_names[np.argmax(result[0])]\n",
    "        predicted_labels.append(result)\n",
    "    return predicted_labels"
   ]
  },
  {
   "cell_type": "code",
   "execution_count": 29,
   "metadata": {},
   "outputs": [
    {
     "name": "stdout",
     "output_type": "stream",
     "text": [
      "Labels for picture from quantized model : ['cat', 'ship', 'ship'].\n"
     ]
    },
    {
     "data": {
      "image/png": "iVBORw0KGgoAAAANSUhEUgAAAXAAAACRCAYAAADaduOsAAAAOXRFWHRTb2Z0d2FyZQBNYXRwbG90bGliIHZlcnNpb24zLjMuNCwgaHR0cHM6Ly9tYXRwbG90bGliLm9yZy8QVMy6AAAACXBIWXMAAAsTAAALEwEAmpwYAAA4IklEQVR4nO19aYwd2XXed6rq7b283tjcmhzOkLNKs0ijsWTLsizZysSOLcM2ZFuwIAM2hAAxYAGJI8UIYBlIYjk/nPwwkGAAKZJlO7Jiy5YsC47WWJJlLZxVmo3DIdlkc2v28rr77e9V3fx4j3W+etPN5vLY5Os+HzCYy+pabt1TdV+d757zHXHOwWAwGAyDB+9Wd8BgMBgM1webwA0Gg2FAYRO4wWAwDChsAjcYDIYBhU3gBoPBMKCwCdxgMBgGFDaBG3YUROQjIvJnV/j78yLy9q3rkaFf2Im2DW51B7YDROQUgN9yzn3lVvfFcGNwzj1wq/tguDnYjra1L3CDwWAYUNgE3gMRmRGRz4rIJRFZFJE/EZG7RORr3X8viMifi0ixu/+nABwA8HciUhaRf39Lb8AQQ0Q+JCJnRWRNRF4WkXd2/5QWkT/tbn9eRB6lY06JyE912x8Rkb8Skb/s7vuUiDx0S27GkIDZtgObwAki4gP4AoBZAHcA2Afg0wAEwB8C2AvgPgAzAD4CAM659wE4DeDnnHNDzrn/uuUdN7wGInIPgN8G8Cbn3DCAfwHgVPfPP4+OXYsAPg/gT65wqncD+D8AxgH8BYC/FZHUzem14WpgtlXYBJ7EY+hM0r/rnKs45+rOuW855447577snGs45y4B+GMAP3Fru2rYBCGADID7RSTlnDvlnHu1+7dvOee+6JwLAXwKwJW+vJ50zv2Vc66Fjt2zAN58U3tu2Axm2y5sAk9iBsCsc67NG0VkWkQ+3XXZVgH8GYDJW9JDw1XBOXccwAfR8ZTmu/bb2/3zBdq1CiArIhst6J+hc0YA5tD5kTfcIphtFTaBJ3EGwIF1DP5fADgAr3fOjQD4dXRolcswScfbEM65v3DOvRXAQXRs9EfXcZqZyw0R8QDsB3CuPz00XC/Mth3YBJ7E9wCcB/BRESmISFZEfgzAMIAygBUR2Qfgd3uOuwjgzq3tquFKEJF7ROQdIpIBUAdQAxBdx6neKCK/2P1R/yCABoDv9K+nhmuF2VZhEzihy5v9HIDD6CxMzgH4FQB/AOANAFYA/D2Az/Yc+ocA/qOIlETk321djw1XQAbARwEsoONW7wLwH67jPJ9D5xlYBvA+AL/Y5UwNtw5m2y7ECjoYDOtDRD4C4LBz7tdvdV8M/cV2sa19gRsMBsOAwiZwg8FgGFAYhWIwGAwDihv6AheRx7tprMdF5MP96pTh1sLsun1htt1euO4v8G7a+TEAP41OtMb3Afyac+6FjY4ZzgVuYiTdOT55rnX35765nlDrxDEO6+6XOGsiapt/t2h/4WPpANreO1wbj58ez3s4t8G9btDviM+/wbG9V+HrRY7bnX+sVNqoNcJ1T3Y9dp2YmHAzM52Q2q326DZ6dq4KV+hq4k+ywV82tAc/U+ufk5+vqx2zzd6Tubk5LC4ubjgg12rb4dFxN7F732s6H7Y1UCOKNHovk83Ebd/3k9em+/X41aJ7SswJ1HYUIeh76++PDc4ThomcPHjUr+S1r+29TID+EIXa1157eZ7OOzxuPKkI7cNHP/PM0wvOuaneS9+InOxjAI475050O/tpdLQFNn7RR9L4/ffe2+mc0xtIp7QbfAPNZiNut8NkdE86nY7bIQ2Gi3gwwrjt0fPkWgXdB7pPKl2P2z64T3rOMEo+EK22XjuK+MnU49s0Vzai9R+0yK1v+GZT7zsMk+biMfToPpo0HhXqbrXZ2edTXzmLK+Ca7TozM4OvfKWjpNtu6wVvaHK9SvRtAu/9Yea2x9v1L17yD9QptiU9m2Db67H9msDf9a53bXaKa7LtxO59+P3/+fnOP2giXLykyY6Nur4zd951OG4XR0cS50r5er/plL6Mad5O735AH01huxa3hwoqVZLydTwCavv0si8vLyX6MTw8rMen9FyB0MROPxLtqBm3vQ34Ck/0D9VKVc8ZJN/XbDYbt5tNPW+b5rlcNkf90D6Nj+Zn1732+l26KuwDpaKi84u+r3cnEfmAiBwVkaPlWrv3z4bbD9ds18XFxS3rnOGGsKltE+/rSnLyM9x+uOkFHZxzTwB4AgAOThdcs/ub4Zz+qoLdMOjXsQf9BQoC/cIEen4N6QNGUvqHBv/KRXQu+nJiTy+gc0pEX/xt/YXkL91O1/UETdFf2NBXd7LJ+4TkIkUhtfXHLZviLxFte0HySy1sUR9Fj3fUR/7q87tfO/34Lma7PvLII67XZd4q9Osrn20B9HyQ0xdZxKPn2K2jr2uP3W5OEOSz9v8LvB9jwXa9676H3FC+8xx7TqeKRkWf7aipX5zZtF6/kEtOLQF1jd+hDL10uTQ96zRujZD313csTe8J0zJBQF/4qeRz6cn6tsmQR09OASpVfcd4ymEGwNE85VFHUj1f4PzF32ronMLveC6jY4ursOeNfIGfBWkJoKMjcEXf3DAQMLtuX5httxluZAL/PoAjInJIRNIAfhUd/V3DYMPsun1htt1muG4KxTnXFpHfBvB/AfgAPu6ce36To+AuUwVOXQhHCyQSqjsStZQC8XPJ3xp2f9h7j8gVTpPL0nbajlr+uvu320RpuPUXq8RX1wkAnK8uXS1U9+fCorpelaaeq1zW7b7T6w1nye2jha+RvC5q5DLJNYTIowWWBFWi52J1+tblBd4reGbXY1fnXOzGb3UUyrVeLxm9xBElPVpIid3YDSeKrqX2COhZA0Ui+LJR/65He2l9XO0YXKttBQ5Bl5pj2iPta99TFCiQ8YgG9JP3xwuOjZrSLj5RjdlAn/VWQxdHPRA92NbtjgIFQqKn0ik9j9c7/vTO8UJySJRptar9W7x0KW5PT47psUSV+Gnth0/96LU9MT4I6PgGzX+8GNtqbb5meEMcuHPuiwC+eCPnMNx+MLtuX5httxcsld5gMBgGFDc9CoUhziEIu9SJTxQFuS8Zn9yGxNJ18rfG46Vi8lTanLnCK8Jpdat233F33F4tLcTthUV1nVKBUiUeKKKknRyymtPzvjir53KZ8bjd8jWypjmklAuHaZ2dL8XtoQy5hhd0+4HpJH0zMczuJ8WtU0EhCgxA2HUf+x2fLSLxOW9W7PdNoWYSY5M8v4s4FljpgBbRbK+cOBG3p3fvitsRRT9Njavbnc0QjdfH+7lZYy7ikO5SJFGb6Ezo+5ryiE6h7V6o7xIApFP6rIpPuRdEA6Y8fYYjIXowonyQOlE29F7VaczzRDty4k/nxOsn0FQonv3JJ5+K2y2ie8ZG3qTXzlAkWyLnj87fE9nkcVIQUTkRRaA5OsZFm1Mo9gVuMBgMAwqbwA0Gg2FAsaUUSgddVzso6hZyAducHk6r2k1y4QAgTavXYchuB7ktdF4O+v+Rn/rpuP3kt/85bp8raUZhpc2p8Oqqzc7pqjQAnDyrYbSZ4p64vX/6kPYpo+m7zUD7nRpSaYN2vRy3F+e1LF++qFTMXPli4tp1cgenh9U9z1PyQthSF/ByfsmGgRHXiY2iUG5lKv3VUS4USZBK0lMhJebUyurCl1YqcfviglJguWF9RiYoXZvTrDnqgVPsr9zFDbQ/tgACQbpLYzrqR4oSlRDq2PjgaDLdDgApSnZpUSRJSFSVP6I2EC6MQ+nsEUlXgKK+yquluD2UV5rS63kOOG09IAmPEkWeLK1qO0eJRk1iNJot7UeQZq0k3R72yH+0aQ5jmZA00Z+O3ukoTFIw68G+wA0Gg2FAYRO4wWAwDCi2lEKJxEPD67iXK9V8vD0krZGxIfVTRmi1OuhxhXhVXBL5GHo8R6pUq8tx+2tf+FzcvljSa18s6/6zZ3X/2fOq/+NnhxL9CH1VXSuMTMbtVF73C0hhLEMuddZTt3uhqdowe/YfiNv1mrrsJ08mKZSlFVJPFL3eHVPaTrG8ZTdh4GZEoVzWgODojetBQqF1AxaE++9tcC8hEQ4s3enTM8FKj5cWVxPHr1Z0bGsNfQ4rVdLFyegzXKnp8ziU14636R6YpLkeE2wFJcXwxCEjnXsPSWuHI082TLiJdHvnXDrVBN76iSu+qD1cgoKh8aSItZCiXsprar/T3Kcg+Y3KFMfMiNqPE3aefe65uP3gAw/E7YiTkUK1d5aTBInuqVV7aN9Ar90matMPtB8tUvNsNJKRPOvBvsANBoNhQGETuMFgMAwobAI3GAyGAcWWcuDtSHCp1gknWmoV4+3f+PY/xu37jigv/JMPKKc85vdw4BRiw2WSPE/5qJBCkYh6xsnZk3F7qaahSC6vWXP+kPLI3tha3M4VRxP9aFIGV5NFqMb0PkaGtD1/QauZrFK1kGESxMnmlDM/vazZnalhzfYDgEsXTsftoYvax90jJIDFlYEu84d9zmqMogiVapfDp0zYgOzClZJ80mvmNpAsa8d8uBet/63BIl5MLJeJB+WQwhyFbNVJLOh8Dwc+v6z/Zg3wFpHa1TUN/ZynkMK5s+fj9v1H7ozbd92xP26zkNlrQh650s8GdcZ43efyGGxUFuy64SL43ZC/iMNRaf2ptkLjRpyt85IhdD7pg6eJx06T/aWl6z0h878kcCeUne0oW7NSWYnbFy/qsYWR5JqVo4xuR89Cs0y65pQ1eqlUittP/VC58UJG+3T4TrVxQHx9o6rvJADkSM8/auiaV0ihkSGrz9WTz+R6sC9wg8FgGFDYBG4wGAwDiq0Vs/IzCEY7GYrVRf3taKU1I3Gpqq5JtakZVSPpZEhORIJN7Lb7vobk1JtKJVyiqKSFNXVfOdNxbErD9yqRui+TIHEcCgkEgGZK+1WvqMtUL+vxB6cn4naVqJJ5Ch0UcttWlsh9pMzSWkVdTADw03qv86sa9niewgsPThK9dNlT67On3Y4ilGqdAR7KU0m8gOgsCu9MsCE9fWFhIC9RpmyDb40NMj8vnNcM2fFxtXEuq8F8jbqOcz6TzMTcPaX0HZelq1R1bAtUVqtZV1v6FGZXptJZbc6qJGrrtVmjvN96W5P/iA/vs109ANkuV5PQxycKJUNU0BCFkI6ip5QZZbBm6JnOMhVU1TH0yDZpj8qMUYHw5qr2Y7ig+4yRvU/OKWUJACfO6L+PHf9q3F5eKMXtcp0oopbKpfvQ7S2ibF53j4rj/fzPPh6399F7DwCNrN53nd7lZkX7NEKF56WWpGDWg32BGwwGw4DCJnCDwWAYUGwphZLNFXDPg48BAOa+83K8fWhU3YbH3vJY3M77s3G7WUm6E+yeC5VQCl0xbg/v0vqtzzx3XK9XVNdm30HNtHLkqqWIGokaKnLVbCZFiLgfPrnFzz+rK9YjpAOdLyjFUKBszXMXNMuSNc19olbGhpP0zQqJ5SwvafvkBXXv9k7vjtvBZRpK+vu7LX6AYKQzpiFRHS2P3GgJ122HvZrJTIlQ222QlpmIVKE2ixax9jKIyimSAFWr1XN+n2w2pOJUTKGIzxrXevFMjp5N6lSbxj1Rwa2H+khKWGu/OEAhucvNKWPXbDZx5tQpAECLyhuureq7GLZ0nM+SsNtyhnsLVIhS3DWhFMdQQWlSP1A7NblcHWn5e6TTXyGapc6D5vQ9PH1Oo7gA4OScRgtVmnqu7KhGeElBjcMxLIW02u/87LG4fe6cvrvf/OY/xe37KAIJAKaKmrVdK5e0H6s6v7Tuuydul1eUFt0I9gVuMBgMAwqbwA0Gg2FAsaUUiucHyI92XO2Dd+rKbY1i/g8cOhy3J8mtLZ1UOgUAWhSFErY1GuOxt/2CnuvOR+P2odefittPPv1s3B4bUorh3Ly6W4FT9yrDFcd7vNUyrSavUGLOWEGP4UNCokcmp5Q64grnC8tKgQiJLw1TQhAABD4lIpA7eeLMXNyeKqr7eWT/cLc//f3dXlhcwsf/9M86/aX7SxG9NDSsrvLhQxrt86YH70+ci7WHOPmHIzUcu8usJU/0CEcipDN6bY4oSaeVApkYS0ZNOIqiCCjahLWbkdLz1kmEqEQRQaUVteXaSilutyjiolegfWKiGLePHFY3PJXmyBU6vLdsWJ9QLpfxzW9/p3MN0fGIODKKxNZOXVAd+94usV3HRkkAjqKCMnRMihJ8gozayQt0zKsULRLQOR1RWxeWNNkKAFoUApUfLtJfqPYAJfVwoli9rvc6MqzXe/MbXx+3K1QmsV5PCnqdPq3Pxauvvhq3a5QcNruoz0Wtmow6Ww/2BW4wGAwDik0ncBH5uIjMi8gPadu4iHxZRF7p/n/sSucw3H4wu25fmG13Dq6GQvkEgD8B8Ke07cMAvuqc+6iIfLj77w9tdiLxPPiZzrruuYsvxtsffqNWey6MKh3ir+mqdthOupkBuZMnzuiq+FvHtJQZ8qo9MVwgrYNA15ZzlAyTJZeaE2j27dVSaS+Q6wMA6bS6dKtr2o879h+J23ffqzTB0pK6UUMjxbh97sJ83BaK3iiOKRWwsppclWZt61xez1Vb03s9TmOT666itzraC59An+zqogi1bnRGs6ZuY4rohjVlEpCn7eF99ybOVXdcjVxtnqFIBKYPuJo8l/0aHVd6KqEZTlEyTdYJTycTeThShwNGIiLETs1qVfqz82q/pUWNKqjVSPOiQW466Yf36j7vn5mO2wdm9BkupPl15Qgd6dnSH9tW600880rnHvM5jcRxRF822tr30TGN7srQewEATaIfLpVZx15tM5xVirBNEVZC5RB9X88rge6fqShd12xpxMvSklIa3d7r8fRYNEl/fK2iNmvWdPvMlL6LE2NKvbIOy9Ky6opPFJNj8OhDGvE2R4lmKzV931+a02fH85K03nrY9AvcOfcNAL2j8G4An+y2PwngFza9kuG2gtl1+8Jsu3NwvRz4tHPusuTaBQDTG+0oIh8QkaMicnSFlcsMtyOuy669Kf6G2xJXZVu2a7NZX28Xw22EG45Ccc45kY3rnDvnngDwBADcc889LpXtrN7W6+xCqruUIkojX+DV6mQSS8ZXN24oUDfnE098LG7/3K/8tp6X9AbSGf3d4sr3h+7cF7fnl3RFvV7WCWr3LtXIAJIVrBtNvac7D2s0zV2HNeJm5emn4naF5EhXK3qeNpVBqxElUeyRsg2d0iMjRXUh21Q+2/d0bObOd9x8TpLYCNdi13sfeNC95xd/CQDQoOiKAsniCrmuOaICeouzr66SjGubnguKPghyFFVC0Qo1SjZxkV7DI9qEI2MCOjaVSoZNiLc+NdMiyqZOsqgsWzpWLMbtkMq2ZX0dj9Kiut1zZ08lrn2YIrF8j+gmujZTD9eax3Ml27JdC6Pjbq1LXTqO3qAEtBxRGvtn7orbrWZSTvYSySgvEMU0Pa0JNJlJpYsqJd0nIm2Z0TH93clklMav0+WqbX2GsjSHAEDY0nfOp4SyNEWupNL6XLSy2n7sDUqB3H1wr167SWUPX9XxePXlFxLXfsubNFplZkaPP/2cRti1QpKcDTd/T6/3C/yiiOwBgO7/5zfZ3zAYMLtuX5httyGudwL/PID3d9vvB/C5K+xrGByYXbcvzLbbEJtSKCLyvwG8HcCkiMwB+H0AHwXwGRH5TQCzAN5zVVcTgXQ1JqpES9TJ7U6R9sfaImlY+EkKJQV1QfcU1c155UXVPDk3p21UlRKZnTsVtx/Zrdor+w7qyvLeeXXVKsfVxRnPFBP9GC4qpXLihJ53z16lY0pEC7SIHrl4idxElk6lBJ0qUSjiJXVD2OkvcJJPREksQivqix031sH1167OIWp17sunbwJeQx9Ka/9yWbVxrafqSLWl93iKxjNNUSgHDh2M2yfPqF2/8A8qD9qiykxZkorN07ULRMWMjiRd7eKoRl088siDcXtqUt32u/arjT1KdPEpgqVZVworIDqktktttHdPMXHtvfs06imkylPVKlE2TE/Fl+tW5umTbcXzkepGjU3tUpc/S5ogCwuaNFZhvaIoSUlx9aPRKX3P9hFdNDyqYzsyqdTKIkVuhUSN0aOSSCiqVpUmabYoYapzVNxKcxWsjD6fKYqE2kXPxdSYtrMUGTNFtM5IWp+7xdNaMQsAZl89Fbd3j+u8sXLxO3ptip5q+psz3Jvu4Zz7tQ3+9M5Nz264bWF23b4w2+4cWCamwWAwDCi2VAsFDnH1HJ/0NPdMagIAu7hfe06TZsbayXCFI+PsItNqcqCUw6X5U3E7aqgbduAuTfbx6Xr5EXXhJqd1RXyR9BRWVpNJF+ThYoq0TQKiguoUFcIRIDVyr9t0Im7XG+rOtdvJ39sJcjNFdDzSomOQEdKMcZ0In5Tf39/t5ZVV/O3ffQkAELXURfWogskQRRcNk1t6xxEdZwCYmtAIh4k9qpkyTveaJQnS0otKb/3wxTNxu0ahGVw3mYvODtN5Dh9QWgYA3vLYG7QfBaVTCuTWspRtk2zcpqSQKuufUHJKLq/XLhaTGjcXSVp4gYol5wpKm0zv1vHI5zvPWhj1hPTcIHw/QLFLEfp03w0qGC30Dbi0WIrbq6tJDRKWRfYjNcjsWb3XkVWlO0ZHi9QPHasGRa8JPduZFE1lBX3Wco6S8wB4VBSZNX0LOT0mRcXQ90+obfIUnVJZLcXtNlE2HNtziOghAHjxJU38uvtulY0FRZucP6cJPhlK4tsI9gVuMBgMAwqbwA0Gg2FAsbVFjUVlIkeH1B0sUqUZIUnQVafuy8JyclV7cli7XqCV39BT9+fUuVNxe3pMk2AOHlZtEk4A+N6Tqs9y9rxSLsNDSq2kUkl9g+eP80oz62dou0HudZl0Fookedomf/z8RQ3RLQxrvwM/mXuRz6vbx9KoaGl0S1gpxe3pXR0qIEhtrrFwLahWazj6dEc3KZuiQr8NjTBJUeTCj7xZtW9mzyrtAQCL57X9ugc0cSJNESNVopVSRIE98gaNFqmThkWa3Osjdyp99gBVP9k7WUz0YySvz2REbvuZC6p1Mb9MhaQXdHuFIqxKpVLcblL1GpaGZblbIKn70yLKLV9UKud10LEZ7UbMtNqbJ35cC0Qkpj6qpN3iE0/gU4JVGKqNA9IbAoDI6d/SGb2PyUmNuBmiOSHLEUI0PgE9X5xg5SgBpk0JYKMjyX54HifKkBwtRZ5EDaVERknj1rXVfiHRZM02JZPRs5KndxcAZi/oe/nCq1+K242Gzgkt0stxfh+0UAwGg8Fwe8ImcIPBYBhQbG0UClTDYfcuKrbL1ANFZuzZr+7uUaJDAKAkSq84X13W0UmN4BgdUWollVW37Q6iUIZGNQLmf338U3G7Sv1YrWkkQLWWFG7ixe/dY3q9+pJGR1Qy3Cft90svvxK3L15UF3yVNFKKRb3ASCHpDvq0Wp4iPQafkpamCuROZjtjH/T5Z7vdbOLSXOd+x8eUbtq3XyMl7n9Q5XVT5JY+/8z3Eueazqq7PERaFfMLyq0URtQ1nRjR/X/+8bfFbY+SaUZHdf/JCbX30pK6tCdn1RYAsFJS+md1RRNU1igKqUQiXkurmljWpkicFFVzSlOhX48igUZHkvRgkbRUxnbpc5thyoyiJsrdZK+oz8WNgyCFiW7SzeVELQAYoqLNUUhJeJ7aYhcl/gCAkAZNmnSNmD7KZvVZ9+khZaqEi0ezHiwnT1Ur+v54LhmZw9EqjuiU6oo+C2dP6bOwRBo5xZweO01Vk7JZtQVHnLkgGQET5DX66tKcvqMzezR6bZiKpq82bp4WisFgMBhuMWwCNxgMhgHF1hY19rw4WmKEKlq0Q+1GhtyOu6n47dEn1ZUEgNWUBslHoi7u9D511V54UTUGfvQnfiNu//O3dXulQjolTS1qPH+BoyP0d67cSv7mBaStMOZpVMK+nJ535ZK6ZG1fKYbpXdoOKZifJWTrNXXZK6mkS9aO1FVs1TUBYFdK3dq9Q+reNdq1nrvpD5qNOs4e60hnrtKq/79617+O248/rlncX/marsDvKibtuitPmimUdJEl3dlpKmA7TO0sJce0KWGH3XSW6r3wso7Z6XlNKAGAJhXUDqhSzPCwRg7tIte5Vz71MlIUIcUVlLg9PJwcg5GRYdpPx6BMksMXL+qzWu8WtG5u0Ifrhef5yHfd/hZFV+QoAao4ojRZRNEzQU+Fo9wQVfQh3RiPEoQiR9v5KeVC19ymWknttj7z7VDHaXVRxwlITngpolDKK0phnj+n9Mb0uD5fxYLql1SJ6oiI7mnTFTgyBgD27Z+J2/cc0WLVD9+v7WMndN55+gcaFbcR7AvcYDAYBhQ2gRsMBsOAwiZwg8FgGFBsOQd+Wbd6bFL5pLZoN+qecmfZIeKfesqJnT6jJZre+ibNSquXlZvKDxOvdVZ1i48fO6bXpmwsLgJdobCw4QnNFltZSYpZjQ4pH3jP3a+L299/9qW4/dRLp7Svb/+XcZvLx504rtrlK1RVnjM667WkQNDBaeUVWehofJz4xoBElprd8liSDFu7UbgoRL3aCal7/UM6Bu945zvi9kRRw/d+7Eco3M9L8oTDxPOPkMa5T1XOA65Qz5l1JJ61sqxhYSO0rhKRSvmd92hfd+3XsncAsLSsaxjDFNbHJa+ECNkUPTwRiUrV67qeUabwNhdpiGS5mrTrmfMaMslrIK2qnot1wvOFzv21+5yJGbkIle56zHCOeXl9X+dJ036VhLuiKPlteJjEm4qkhe1TVrCQbXitotkkcTAKl603qAxhU+0lJBrmGnoskMzaLhZ1PSOXJiE6yjQt0hrS6LC2m3TeKt1rk8pDepK0xxit1+SprOPcGQ055mTrB+7R0NuNYF/gBoPBMKCwCdxgMBgGFFtKoTgXIWp33J7RcQ03q9SobBS5qBxqdWAmqRt97HkNzVupUpZYQUMPqUg2Zo+pm3L2nLqob3mLCitxKaZhKok2vlczQk8vKTUCALWGXjtdUJdsZEpDhh4Z1r5fIpfz1OyzcbtCYkGlFe0Ha4yPOlJ6AnBwiEs/UYV1UXeSS0oVutSJh/5m7KWzedxx+CEAwK+877fi7dVQ3dWXj2uYXkTa5dkesaEWiXotlUhsPVJ3OaTsP2LfEEHd2rVVDS31L6pbe25ehcIa5O5G9aS7W6BwxhOvKP12kspkcXbhOGnas3u9sqJU3OKChrQ5okA8L5ktKB7rVJPoG4UzZrksXbnWPWd/9cBFBJluJunigo7bq8t6HyzqVKQs3D17tMwYADRJYKrVVCoocjoOq1WlR2pEHYUkIuUTZZamsmZMjWSJTsylklNcnd7xiMIQC0P6HPpEMaZJUIrnIw4PrRN1JT5TQkl7tFr6vs4tashxtaLPSEB03+49yTlvPdgXuMFgMAwobAI3GAyGAcWWUihRu4W1ruBzjqINEmWSqOq00Grw5Li6qABwzNPyRPNL6not+uq2jA5ptue9r9MolhOzmu3Ela1LJFR05IiuAB85pFzM7Hl1dwDg+ed/oNdeILGhjLpkY5SFNve8UjAXFmnlnKJvfBLeYkGvgz3BIweGSQjIUzeuUacssUhdvVgvur8MCsbGx/FL731vp71b3b5nf6jUA2cJNilKI0RS89jRir4PEjGiTodEFTja7iU+R0hTm8rxLSwqlcPZez0sBoojReq7uvBLiyRmRu7ywoLSAg2irdqUVRs2SVOb9MDz2WTWYoYzNklrusni9dAHN86M7G9wEcJ2G6VuNM/5s5qdmKeSZffe//q4zWXv8qSnDgB1EoFbXlZxuBZppFdJkztPWbWjIzpXFDLazhGNERDtEVIUSrut5+xcj8oV0jsjNHgeRRSFROlSci4Cn3TJI8qcpnJzi5eSWaALlBW6tqYU3zJpxjN1lxlOznnrYdMvcBGZEZGvi8gLIvK8iPxOd/u4iHxZRF7p/n9ss3MZbh+YXbcnzK47C1dDobQB/Fvn3P0A3gzg34jI/QA+DOCrzrkjAL7a/bdhcGB23Z4wu+4gbEqhOOfOAzjfba+JyIsA9gF4N4C3d3f7JID/B+BDVzpXo9HAieMd6uPAkfvi7VmPyhk11f0MSBs6S20AGB5WimKIqpzfe68mDHzlS1+M29UVTfzJj6urd3xOV9dn9msEy6F7tCp5htzdOw/oPgBQWtLV5Bde1MgYXl0/W9L7W6WIm3qo7uBqSembXURDnF7U7eMzyWSmRXInEVEUS1uv4ajkVaO7TxN+X+1arVbx9DNHAQDP/eCZeLtA3WjfJ3eXK5QHSbsCLP6krmxAJdn4WUjqbet5PUr28Z3uM5LWD0+PaK6WT1wagDqJi5FGE9Kkyd2qkvtPomhNipoQ0gZnjqdJrnlYSSaHVdb0+Dw9e1Oj2t+AKIbLTIJIf9/XIEhhfKoTTTJG9EjAdiFbrJU1wqNc1vEAgAxpoXM0RkTRKXunNeIqQ7QSR544KrlYqetcUaeooxJRNItLmswHADWicu6jknopStZiJsr39F8cbdKo6PXmSPjuEpXWazaT9E2V9ONXSkrFpikxisfwq1/7GjbDNS1iisgdAB4B8F0A092HBQAuAJje4JgPiMhRETm6tlZebxfDLcaN2rVJNf0Mtw9u1K41mqQMtyeuegIXkSEAfw3gg865xM+rc85hg6Ux59wTzrlHnXOP8lez4fZAP+yazuTW28VwC9EPu+YKw+vtYriNcFVRKCKSQudh+HPn3Ge7my+KyB7n3HkR2QNgfuMzdFBttPHM8c5uB173WLw9groWwnoOkT5jq2vJr4FSSVd0J8Yfjts/8/hPxu2HH7o3bn/ms39D96Mu4OgolQDbq9TFEEUh+G3t3/ju5JDtOaQu4ApV0n76WU3SOV+mytYppXtGd+sq8+RdSo8kKn1TYsvLTleoAeD4BXX706QbXSP9jSoNZzvq3Pda2ImE6Zddy+VVfOsbX+lcb7WkfUop3ZDL82RApbNccjwdfVN4KaZQSBs8UYZLaZM06XMHeR3bbFrHNu0RlUOfL5JNhnBwBFSroa5wg6JKElQA6ZWDjg14nmSxHaIURgva7vxbx2Qol6ZD9Bop0edOLifTdEuq9cuuDkCre04e54ASmEIqWcbV6gM/+W1ITASyRI/UKjqGNSpdV6PXnekzj5J3HNFcL7/4Qtw+fepU3GatIwBwRG3u3aNRauNUdq9Wra7bLi2X4vYiae3UiPZlXf9qNUmNrazq7ygn0+UDtfcF0sG5cEFp341wNVEoAuBjAF50zv0x/enzAN7fbb8fwOc2vZrhtoHZdXvC7LqzcDVf4D8G4H0AfiAiz3S3/R6AjwL4jIj8JoBZAO+5KT003CyYXbcnzK47CFcThfItbJwi8M4Ntq+Leig4ttLhSxdCkjxNqVvqNXV11kVUYslLJnzs3aOr4j/+oxoxkk2pi3TooOqZ/Owv/2rc/qu/+fu4vXBBr3d+hWVAVd41DXWLlmpJzYzjs+TmULKKm9QV7rFd6tpH5DoJaYJE5P5Hoi4my5euhElXO5si6V0qP1YRkiClKA0XdfoXit9Xu6YCH9NTHWrofE1X4cOwFLdHxlUnJqD7Xl3QKB4AWFtVuqoVcrSCRma4aAPND6JH0jl9Ppi2YulijziUfDrJ4xeo6nvYWp/WA0mCClM8FDmSI+phnORx91Ny1/49Kq8KABRggkZduQTP6XsSEGVWHOn03felv+9ro45XjnXKet3/wP3x9hxRIGwKjy4bRcmonoukQcNSzY0a0Q9EnzIVcefhO+L21C4dq5AuniJaZ5RkWzM9SVIUQJNIunnp5ZfjNsv+8j4t6l/k9DmoEL1bo/upkrYLkIxKyRBtsjqvdHCJknrCaN1ligQsld5gMBgGFDaBGwwGw4BiS7VQGqHgWKnzm/G5b6mGyMMH1S3anVY3M09SkHt264oxAOyZVDfprjtJdpH0FM6TdOvHP620yVPP6Io167AkCpo4Xu3WfcLMCBghRzVQ4kqbIl3anm7P8ohThEm9SdejJfuAIlL8HurAkQRqm6QrU6wnIpQ80uqcVzb3zK4NLoJrdWWCC+qyrlE0TCtUt/See7WCktuj1AoAXFpQm82TdkSZpGV5dZ9d7ait1ysEGlVw74OqZXOOEj4uUcRMrZl0d2uUJMKaLBmirQpETxVJwnSKkkJ279Xn9vA+Db3eldHno1xJJr0sUfKJTxEY+YJGTA0N6/UmJjrbg6C/r7OLQrS6FE69XIq3e/Q+JLRoKCElbLNuC/DKK1oFq0yVe9L0jqcouoiThSJKTPNI1wZEL04QRccRL9WeKlY1+veZM6rVw8fQKwNHyVdVksFdIaqjsqiUUIps0O4ZgzZJCFdKavM2JRdxpaWrES2yL3CDwWAYUNgEbjAYDAOKLaVQQgjKXdnUrz6lLtUrr6o07ONv1NXuu/aqG3zyhOqMAMDb3qQFabPkyq411fX6zD98P24//YLKYVbbpCFCFAUnCUS0AszFSZneAICQVtsbRF20yBUSSrpokNaHo5XsgCIiuPJHPq8uexrJlX0uwBJSdAXLrbYpgiI9XOz0x+uv2dutJhbPddzRsKVuZo1cwOoZrWQzTrook9lkclKKCtXmSOO1RtVenWOui8aEuKFqTemXH6ei1w/cp/Knp09rlabFUjIapkHJOxx5ElA0VI40OiYp2qRY0HsKqX8XFnQMXl7QhA3piZQY2aVJSLkRjVbJD+t5uQLQUDcJhbVj+gFPgGz3uWwS9cART0Lj4dFz6/VUwhmhyktZStAaImlan8YwTxorbdKTeeUllWNeWVLNkxVK+w8pWSeVTo4JJxhl0jruQrasEn12aUkpvSpFpPh032MsPcxJdD30TZukbKMEVcL8DY2tbP59bV/gBoPBMKCwCdxgMBgGFFtKoQRBgInJjmTk0rK6LOdJY+Dbz6qLFLYO0tFJN3OKJFfFV9fre0d/GLf//mv/HLcbkbpqoMKhnrf+b1hILrQjF7o3QYFpENYt4dVoLnQKquQRJAqm6v4s+uVT/zyXXNUOKVImImqGuZXdu5WGGh7ptF/NJMfyRpFKBdjdjSaZO60r++0GUR1EQ508pkkTK2myC5JfFJVI77dCK/pRmAgXiltcjJYTYJ76py/F7bcXdGxfR2NbG00KN3HkA+vz1DkSgQr6csTM7Eta9WehptEG9ZT2L7dLoybGdhcT186MEK1AWih5TlChyi0SPzt9LskDiRPoQor+YC0hHqdGg2iMngiMHL0PHlGeNZJYbSwpzXmGiw9z0WB631hKmPWDUlmidXpmuGZTz1VeJjnaOiXv1JXG4xHN0vPSoui1FlWV4uglTuoBgIiiyISo2DbRMS7Ua6RTm9vTvsANBoNhQGETuMFgMAwotpRCEZGYNkhRVZZ2Xd3EUxfV5WxUXozbb3vD3Ylz5Yp74vYKFfH9x+8ejdt1ilZokUuXoYQBdmt65R8vw6cID+n1algag2iQRKQHtSVDEqs5TcbgJIwWRY6skYvZq43QILd2dEyToaZJW2OIModqXc2GDbVErhOpTAozR2YAAKuUlFKZ46KulLREFMhSO9mXNI11k+zHkQVw6/dfHK/g6/bjz2k00pk1fQ6mKMGKqTAACMldLlM0zAXSIzlOETNzpNVSzRMdNqPP6fQhpQSzRUoI6/XzKVJiaEgpnzxFpHj0/rjL0Qr9LmoctrHWlW2urZXi7fPn9H1t1PW+QxoDltrt/JsiuWisPaISUqRjlIzKIllhimBhG7epkHGdJGobjWSC1tqq0hoczFSgAuFMWzp6PhtUOYmTdFaIbmXaJOyhW7lwcrTBM8xSvRK1192HYV/gBoPBMKCwCdxgMBgGFDaBGwwGw4BiSzlwOKdhRxwC5yv/1KSQnPmycmpPvawhRgDwM1Xl0dachi+dXdZ2hvjDdlXPW29Q1e888dCUPcb7JLLNJJnZxeGCjrhMLg3GIj1lysZqUqk25sOZI2Seu1JP8opDReW6i1MqmtRs634vU+ZaqsvJtXqqZd8o/CDAyFgnLG5qWnW4zxMHzvQsU/mNnuzSFv2Nee8Qm/P2LKzEF2wRL1mhquFephi3fcqyA4Bz1K9noM/C8YDsMaR8ZWG/Ck1N7d0btyemVMAqQ1mHTXBmafLeMgGFl3Kbw045LC/e3l8SvN2s48JsJwOa101YcInD4QIqEyd+si9ChHWaBMHy+fy6+/DaVJvCCMtl5Z45JDCi9Q9POOMxGc6YpjWoXWSnSlkFqVYpK7fNGv8czkhjXW0yN74+1989aN3jUzSGPnhNbvOi0vYFbjAYDAMKm8ANBoNhQLHFFArUf+Zq1iRuFDl1E1lr+9R80p34+Ge+GLff8fZH4/bJc+oiV0POVCRKg8SDfBK0yVP4VpoqzNfWqMxXKxnaw2FGKQrZY9eXj2E3mAWzapx5Rtt5/+JYUjt7YlpD1BYWVdintKBl3kqnVQTs8KFD3U73VxDcEw+5rihVhgSJUqRlHbZ0nByHf71GnJzoBP4TH7RB/yNywR21y+SOv0Tu7iiVUXuprtmTAPA80VtLlBk5PnMobu+5Q13wIumaZyjb04u0Hy1+5gN6BikkEACChMiSHp+gLoQpg8449zsPE87Bjzr0U0TZvYnMSO4fUYieS04tHPLXoAzWdkvtwTRIUhdbweG2KRonn8LvAs6O7glT5XJ3mZyO+/Ki9qmypu9iiujThLY+UaxtsqtLlExMWoSzvjmjNEtzRZk06qsVpXU2gn2BGwwGw4DCJnCDwWAYUGwpheIHPsa75abqJDZUqWlURNqnsmTk/ng9buY3vvdc3D55TiNUViq6arxU1ugDCsxAgVzcNrnXmYxeg93YbE7dOdYBBoCAVtRD+j1sEw0iEUccUGQF6Rw3KXMtR1rIkxOq+zw2qZQJADQpkqdBrmGNxKoici0rXaGdjbLArhcOQKubXVmpqV2Hi3of9Qpl7HFEQ4/mcejW/4ckPOr1yQJHLrijrNiKpy7/t5rqls5WKSM0n+xHMD0Tt3fvm4rbh6Y08mdiVG3j0TNVITe6ThRRQK5ylqimbD6piR6kddyyOaVvMvRcsJDTzYOLozg4ooL12B1RRI5CiHopELaYEJUQcmQNvUv8LiYE3Wj/BMMW8XtFz1qPoFST5pEalTKrlDcQzyI98TplaifGg0uw0bV6KRT+W8DZnk3t7/KiUnmtZrLv62HTL3ARyYrI90TkWRF5XkT+oLv9kIh8V0SOi8hfikh/Je4MNxVm1+0Js+vOwtVQKA0A73DOPQTgYQCPi8ibAfwRgP/mnDsMYBnAb960XhpuBsyu2xNm1x2ETSkU1/EVLvsXqe5/DsA7ALy3u/2TAD4C4H9c8VyRQ6Prxmfop6NBwfYp0stuE1vhenS7vZy6rLMUeeKRm9oml47pmDqVPaqQWBSvErMLV0iru5qj6JTOMXreNLnFubz2jxMOFqgMVATdHlA5t7ERdamnx4txe/fuZBRKiWiJNUo+4KrfRarWvXCpk1jTbrX7a1cXodWNLPDTOuZjU3ofrSGyK0WktHrYnBbRK44oFBrmRBKEbBB5Ao5KoBJgLdLXbozq2Nw5qglIADA2rmJTQyP6mgzl9fnKUNRRnXSxm5QE5FizmsuMcV97XO1kdIVeL0XH+wkqwXX/39/3NYoi1LtJXxz9weOcSCiiMecK9UDy3fITZdhYK5+iNJhi2CCph8WiWjT+Pmlyt8rJ6LWQrl2g5C2mTTzWla9RglePmJxuXn879xUAAn4W6L6XLs5rf0l86zXCeevgqhYxRcQXkWcAzAP4MoBXAZSckmFzAPZtcOwHROSoiBxtVVfX28Vwi9Avu7IineHWo1927S1eYrj9cFUTuHMudM49DGA/gMcA3Hu1F3DOPeGce9Q592gqP7L5AYYtQ7/syrHfhluPftnV61mwN9x+uKYoFOdcSUS+DuAtAIoiEnR/1fcDOLvZ8VEUxS5JhrQSSD4ZUUvdH5YdiXq0MDiSIiL9lHaTVodDcq8Tq+hcIo0iXchtW15WSmKJ+jQylIwYGKXkmhFyAbNQqiWM9As1oHAKP6P95q/YDLn8vH+7mgzsb1f1mHJJq2dHFNGSJX2K+mW3rXd1/AbtKgL43fJPxXGljoYosiMkuzCF0g6TdnVEj3iso07fGuzi8iTjkYZ0kNLr5YiGGKbK7tNDWm5uKKPRTwBQoCSfNI1hk4I/ypSoVCONc46syRKtkPbXT0LxeqrJJ+gDelabpMuRTlM7tf5Ee8N29bxYx4fHOcVRIdxXuu9e7z+Rr5WIyiKagSJXOFKJy7ZxhfomafpwKbOwRtokPVEoBTpXjqKIWPOEy6V5G/AYiQgTjqqi+0xo8wAo0PxQWdX5ZZWSd/gQL6ETv743dDVRKFMiUuy2cwB+GsCLAL4O4Je7u70fwOc2O5fh9oHZdXvC7LqzcDVf4HsAfFI6lUw9AJ9xzn1BRF4A8GkR+U8AngbwsZvYT0P/YXbdnjC77iDIayQPb+bFRC4BqABY2GzfbYhJ3D73fdA5N7X5bleHrl1ncXvd41bhdrpns2v/cLvd87q23dIJHABE5Khz7tHN99xe2An3vRPusRc74Z53wj32YlDu2bRQDAaDYUBhE7jBYDAMKG7FBP7ELbjm7YCdcN874R57sRPueSfcYy8G4p63nAM3GAwGQ39gFIrBYDAMKGwCNxgMhgHFlk7gIvK4iLzc1ST+8FZee6sgIjMi8nUReaGrx/w73e3jIvJlEXml+/+xW93XfmEn2BXYebY1u97+dt0yDrybGXYMndTeOQDfB/BrzrkXtqQDWwQR2QNgj3PuKREZBvAkgF8A8BsAlpxzH+2+DGPOuQ/dup72BzvFrsDOsq3ZdTDsupVf4I8BOO6cO+GcawL4NIB3b+H1twTOufPOuae67TV0dCj2oXOvn+zu9kl0HpDtgB1hV2DH2dbsOgB23coJfB+AM/TvDTWJtwtE5A4AjwD4LoBp59z57p8uAJi+Vf3qM3acXYEdYVuz6wDY1RYxbxJEZAjAXwP4oHMuUcmiWzXF4jcHFGbb7YlBtOtWTuBnAczQv69Kk3gQISIpdB6EP3fOfba7+WKXa7vMuc1vdPyAYcfYFdhRtjW7DoBdt3IC/z6AI9Kpjp0G8KsAPr+F198SSEfp/WMAXnTO/TH96fPo6DAD20uPeUfYFdhxtjW7DoBdt1pO9mcA/HcAPoCPO+f+85ZdfIsgIm8F8E0APwDiMkK/hw6n9hkAB9CR6HyPc25p3ZMMGHaCXYGdZ1uz6+1vV0ulNxgMhgGFLWIaDAbDgMImcIPBYBhQ2ARuMBgMAwqbwA0Gg2FAYRO4wWAwDChsAjcYDIYBhU3gBoPBMKD4/2HeGYXSlCEUAAAAAElFTkSuQmCC",
      "text/plain": [
       "<Figure size 432x288 with 3 Axes>"
      ]
     },
     "metadata": {
      "needs_background": "light"
     },
     "output_type": "display_data"
    }
   ],
   "source": [
    "indexes_to_infer = [0, 1, 2]  # to plot specify indexes\n",
    "\n",
    "plot_pictures(indexes_to_infer)\n",
    "\n",
    "results_quanized = infer_on_pictures(quantized_net, indexes_to_infer)\n",
    "\n",
    "print(f\"Labels for picture from quantized model : {results_quanized}.\")"
   ]
  }
 ]